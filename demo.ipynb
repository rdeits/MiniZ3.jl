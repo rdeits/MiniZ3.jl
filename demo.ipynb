{
 "cells": [
  {
   "cell_type": "code",
   "execution_count": 1,
   "metadata": {},
   "outputs": [
    {
     "name": "stderr",
     "output_type": "stream",
     "text": [
      "┌ Info: Precompiling Z3 [e25d158d-770d-41a2-bcab-8455a1101635]\n",
      "└ @ Base loading.jl:1273\n"
     ]
    }
   ],
   "source": [
    "using Z3"
   ]
  },
  {
   "cell_type": "code",
   "execution_count": 14,
   "metadata": {},
   "outputs": [
    {
     "name": "stdout",
     "output_type": "stream",
     "text": [
      "\u001b[37m\u001b[1mTest Summary: | \u001b[22m\u001b[39m\u001b[32m\u001b[1mPass  \u001b[22m\u001b[39m\u001b[36m\u001b[1mTotal\u001b[22m\u001b[39m\n",
      "Easy sudoku   | \u001b[32m  29  \u001b[39m\u001b[36m   29\u001b[39m\n"
     ]
    },
    {
     "data": {
      "text/plain": [
       "Test.DefaultTestSet(\"Easy sudoku\", Any[], 29, false)"
      ]
     },
     "execution_count": 14,
     "metadata": {},
     "output_type": "execute_result"
    }
   ],
   "source": [
    "include(\"test/runtests.jl\")"
   ]
  },
  {
   "cell_type": "code",
   "execution_count": 2,
   "metadata": {},
   "outputs": [
    {
     "data": {
      "text/plain": [
       "Model with assignments: [\n",
       "x -> true\n",
       "y -> false\n",
       "]"
      ]
     },
     "execution_count": 2,
     "metadata": {},
     "output_type": "execute_result"
    }
   ],
   "source": [
    "cfg = Config()\n",
    "set_param!(cfg, \"model\", \"true\")\n",
    "ctx = Context(cfg)\n",
    "solver = Solver(ctx)\n",
    "\n",
    "x = Variable{Bool}(ctx, \"x\")\n",
    "y = Variable{Bool}(ctx, \"y\")\n",
    "x_xor_y = x ⊻ y\n",
    "\n",
    "constraint!(solver, x_xor_y)\n",
    "\n",
    "@assert check(solver) == true\n",
    "\n",
    "m = model(solver)"
   ]
  },
  {
   "cell_type": "code",
   "execution_count": 4,
   "metadata": {
    "scrolled": false
   },
   "outputs": [
    {
     "name": "stdout",
     "output_type": "stream",
     "text": [
      "Model for: x < y + 1, x > 2\n",
      "Model with assignments: [\n",
      "x -> 3\n",
      "y -> 3\n",
      "]\n",
      "Model for: x < y + 1, x > 2, not(x = y)\n",
      "Model with assignments: [\n",
      "y -> 4\n",
      "x -> 3\n",
      "]\n",
      "Int(m, x) = 3\n",
      "Int(m, y) = 4\n",
      "Int(m, x) = 3\n",
      "Int(m, y) = 5\n"
     ]
    },
    {
     "data": {
      "text/plain": [
       "5"
      ]
     },
     "execution_count": 4,
     "metadata": {},
     "output_type": "execute_result"
    }
   ],
   "source": [
    "cfg = Config()\n",
    "set_param!(cfg, \"model\", \"true\")\n",
    "set_param!(cfg, \"debug_ref_count\", \"true\")\n",
    "ctx = Context(cfg)\n",
    "solver = Solver(ctx)\n",
    "\n",
    "x = Variable{Integer}(ctx, \"x\")\n",
    "y = Variable{Integer}(ctx, \"y\")\n",
    "one = Constant{Integer}(ctx, 1)\n",
    "two = Constant{Integer}(ctx, 2)\n",
    "\n",
    "y_plus_one = y + one\n",
    "\n",
    "constraint!(solver, x < y_plus_one)\n",
    "constraint!(solver, x > two)\n",
    "@assert check(solver)\n",
    "m = model(solver)\n",
    "println(\"Model for: x < y + 1, x > 2\")\n",
    "println(m)\n",
    "\n",
    "constraint!(solver, !(x == y))\n",
    "\n",
    "@assert check(solver)\n",
    "println(\"Model for: x < y + 1, x > 2, not(x = y)\")\n",
    "println(model(solver))\n",
    "\n",
    "m = model(solver)\n",
    "@show Int(m, x) Int(m, y)\n",
    "\n",
    "Z3.exclude_current_interpretation!(solver, m)\n",
    "@assert check(solver)\n",
    "m = model(solver)\n",
    "@show Int(m, x) Int(m, y)\n",
    "\n",
    "# num_constants = Int(ccall((:Z3_model_get_num_consts, Z3.libz3), Cuint, (Z3.cz3.context, Z3.cz3.model), ctx, m))\n",
    "# @show num_constants\n",
    "# assignments = []\n",
    "# for i in 1:num_constants\n",
    "#     declaration = ccall((:Z3_model_get_const_decl, Z3.libz3), Ptr{Cvoid}, (Z3.cz3.context, Z3.cz3.model, Cuint), ctx, m, i - 1)\n",
    "#     interpretation = \n",
    "#         ccall((:Z3_model_get_const_interp, Z3.libz3), Ptr{Cvoid}, (Z3.cz3.context, Z3.cz3.model, Ptr{Cvoid}), ctx, m, declaration)\n",
    "    \n",
    "#     @show Int(m, Z3.Expr{Integer}(ctx, interpretation))\n",
    "#     push!(assignments, declaration == interpretation)\n",
    "# end\n",
    "# assignments"
   ]
  },
  {
   "cell_type": "code",
   "execution_count": null,
   "metadata": {},
   "outputs": [],
   "source": []
  }
 ],
 "metadata": {
  "@webio": {
   "lastCommId": null,
   "lastKernelId": null
  },
  "kernelspec": {
   "display_name": "Julia 1.3.1",
   "language": "julia",
   "name": "julia-1.3"
  },
  "language_info": {
   "file_extension": ".jl",
   "mimetype": "application/julia",
   "name": "julia",
   "version": "1.3.1"
  }
 },
 "nbformat": 4,
 "nbformat_minor": 2
}
